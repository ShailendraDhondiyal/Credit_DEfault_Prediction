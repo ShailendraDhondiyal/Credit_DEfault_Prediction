{
 "cells": [
  {
   "cell_type": "code",
   "execution_count": 6,
   "metadata": {},
   "outputs": [],
   "source": [
    "import pandas as pd\n",
    "import numpy as np\n",
    "from matplotlib import pyplot as plt\n",
    "%matplotlib inline\n",
    "import seaborn as sns\n",
    "from sklearn import impute\n",
    "from sklearn import preprocessing\n",
    "from sklearn import linear_model\n",
    "from sklearn import ensemble\n",
    "from sklearn import feature_selection\n",
    "from sklearn import model_selection\n",
    "from sklearn import metrics\n",
    "from sklearn import decomposition\n",
    "from scipy import stats\n",
    "import warnings\n",
    "warnings.filterwarnings('ignore')"
   ]
  },
  {
   "cell_type": "code",
   "execution_count": 7,
   "metadata": {},
   "outputs": [],
   "source": [
    "merged_train = pd.read_csv('./data/merged_train.csv')\n",
    "merged_test = pd.read_csv('./data/merged_test.csv')"
   ]
  },
  {
   "cell_type": "code",
   "execution_count": 8,
   "metadata": {},
   "outputs": [],
   "source": [
    "# train-validation split\n",
    "X_train, X_validation, y_train, y_validation = model_selection.train_test_split(\n",
    "    merged_train.drop('SK_ID_CURR', axis = 1), merged_train.TARGET,\n",
    "    test_size=0.30, random_state=0, stratify=merged_train.TARGET)\n",
    "\n",
    "# upsample\n",
    "X_train_0 = X_train[X_train.TARGET == 0]\n",
    "X_train_1 = X_train[X_train.TARGET == 1]\n",
    "X_train_1 = X_train_1.sample(X_train_0.shape[0], replace=True)\n",
    "X_train = pd.concat([X_train_0, X_train_1], axis = 0)\n",
    "y_train = X_train.TARGET\n",
    "X_train = X_train.drop('TARGET', axis = 1)\n",
    "\n",
    "X_validation = X_validation.drop('TARGET', axis = 1)\n",
    "\n",
    "\n",
    "# train-test split for KAGGLE entry\n",
    "Xs_train = merged_train.copy()\n",
    "Xs_train_0 = Xs_train[Xs_train.TARGET == 0]\n",
    "Xs_train_1 = Xs_train[Xs_train.TARGET == 1]\n",
    "Xs_train_1 = Xs_train_1.sample(Xs_train_0.shape[0], replace=True)\n",
    "Xs_train = pd.concat([Xs_train_0, Xs_train_1], axis = 0)\n",
    "ys_train = Xs_train.TARGET\n",
    "Xs_train = Xs_train.drop(['SK_ID_CURR', 'TARGET'], axis = 1)\n",
    "\n",
    "Xs_test = merged_test.drop('SK_ID_CURR', axis = 1)"
   ]
  },
  {
   "cell_type": "code",
   "execution_count": 13,
   "metadata": {},
   "outputs": [
    {
     "name": "stdout",
     "output_type": "stream",
     "text": [
      "GradientBoostingClassifier(criterion='friedman_mse', init=None,\n",
      "              learning_rate=0.05, loss='deviance', max_depth=7,\n",
      "              max_features=None, max_leaf_nodes=None,\n",
      "              min_impurity_decrease=0.0, min_impurity_split=None,\n",
      "              min_samples_leaf=1, min_samples_split=2,\n",
      "              min_weight_fraction_leaf=0.0, n_estimators=100,\n",
      "              n_iter_no_change=None, presort='auto', random_state=None,\n",
      "              subsample=0.7, tol=0.0001, validation_fraction=0.1,\n",
      "              verbose=0, warm_start=False)\n",
      "n_estimators: 100    learning_rate: 0.05    max_depth: 7\n",
      "train_roc: 0.849    validation_roc: 0.772\n"
     ]
    },
    {
     "data": {
      "text/html": [
       "<div>\n",
       "<style scoped>\n",
       "    .dataframe tbody tr th:only-of-type {\n",
       "        vertical-align: middle;\n",
       "    }\n",
       "\n",
       "    .dataframe tbody tr th {\n",
       "        vertical-align: top;\n",
       "    }\n",
       "\n",
       "    .dataframe thead th {\n",
       "        text-align: right;\n",
       "    }\n",
       "</style>\n",
       "<table border=\"1\" class=\"dataframe\">\n",
       "  <thead>\n",
       "    <tr style=\"text-align: right;\">\n",
       "      <th></th>\n",
       "      <th>param_n_estimators</th>\n",
       "      <th>param_learning_rate</th>\n",
       "      <th>param_max_depth</th>\n",
       "      <th>mean_test_score</th>\n",
       "      <th>mean_train_score</th>\n",
       "      <th>std_test_score</th>\n",
       "    </tr>\n",
       "  </thead>\n",
       "  <tbody>\n",
       "    <tr>\n",
       "      <th>0</th>\n",
       "      <td>100</td>\n",
       "      <td>0.05</td>\n",
       "      <td>7</td>\n",
       "      <td>0.836516</td>\n",
       "      <td>0.851304</td>\n",
       "      <td>0.000818</td>\n",
       "    </tr>\n",
       "    <tr>\n",
       "      <th>0</th>\n",
       "      <td>100</td>\n",
       "      <td>0.05</td>\n",
       "      <td>6</td>\n",
       "      <td>0.810340</td>\n",
       "      <td>0.820337</td>\n",
       "      <td>0.000578</td>\n",
       "    </tr>\n",
       "    <tr>\n",
       "      <th>0</th>\n",
       "      <td>100</td>\n",
       "      <td>0.05</td>\n",
       "      <td>5</td>\n",
       "      <td>0.790373</td>\n",
       "      <td>0.796491</td>\n",
       "      <td>0.000636</td>\n",
       "    </tr>\n",
       "  </tbody>\n",
       "</table>\n",
       "</div>"
      ],
      "text/plain": [
       "  param_n_estimators param_learning_rate param_max_depth  mean_test_score  \\\n",
       "0                100                0.05               7         0.836516   \n",
       "0                100                0.05               6         0.810340   \n",
       "0                100                0.05               5         0.790373   \n",
       "\n",
       "   mean_train_score  std_test_score  \n",
       "0          0.851304        0.000818  \n",
       "0          0.820337        0.000578  \n",
       "0          0.796491        0.000636  "
      ]
     },
     "execution_count": 13,
     "metadata": {},
     "output_type": "execute_result"
    }
   ],
   "source": [
    "# Validation\n",
    "\n",
    "sgbmodel = ensemble.GradientBoostingClassifier(subsample=0.7)\n",
    "param_grid = {\"n_estimators\": [100], \"learning_rate\": [0.05], \"max_depth\": [7]}\n",
    "gridmodel = model_selection.GridSearchCV(sgbmodel, param_grid, scoring = 'roc_auc')\n",
    "gridmodel.fit(X_train, y_train)\n",
    "\n",
    "print(gridmodel.best_estimator_)\n",
    "print('n_estimators:', gridmodel.best_estimator_.n_estimators, '  ',\n",
    "      'learning_rate:', gridmodel.best_estimator_.learning_rate, '  ',\n",
    "      'max_depth:', gridmodel.best_estimator_.max_depth)\n",
    "print('train_roc:', round(gridmodel.score(X_train, y_train), 3), '  ',\n",
    "      'validation_roc:', round(gridmodel.score(X_validation, y_validation), 3))\n",
    "\n",
    "sgb = pd.DataFrame(gridmodel.cv_results_)[['param_n_estimators', 'param_learning_rate', 'param_max_depth', \n",
    "                                      'mean_test_score', 'mean_train_score', 'std_test_score']]\n",
    "try:\n",
    "    sgb_results = pd.concat([sgb_results, sgb])\n",
    "except:\n",
    "    sgb_results = sgb.copy()\n",
    "sgb_results.sort_values(by = 'mean_test_score', ascending = False)"
   ]
  },
  {
   "cell_type": "code",
   "execution_count": null,
   "metadata": {},
   "outputs": [],
   "source": [
    "# n_estimators: 100    learning_rate: 0.05    max_depth: 6\n",
    "# train_roc: 0.818    validation_roc: 0.771\n",
    "#-------------------------------------------------------------\n",
    "# n_estimators: 100    learning_rate: 0.05    max_depth: 7\n",
    "# train_roc: 0.849    validation_roc: 0.772"
   ]
  },
  {
   "cell_type": "code",
   "execution_count": null,
   "metadata": {},
   "outputs": [],
   "source": [
    "# Model fit and prediction\n",
    "model = ensemble.GradientBoostingClassifier(n_estimators = 100, learning_rate = 0.05, max_depth = 7, subsample = 0.7)\n",
    "model.fit(Xs_train, ys_train)\n",
    "y_pred = model.predict_proba(Xs_test)"
   ]
  },
  {
   "cell_type": "code",
   "execution_count": 17,
   "metadata": {},
   "outputs": [],
   "source": [
    "sol = pd.DataFrame({'SK_ID_CURR': merged_test.SK_ID_CURR, 'TARGET': y_pred[:,1]})\n",
    "sol.to_csv('./soln/sol_mergedsgb.csv', index = False)                   # kaggle: 0.75127"
   ]
  },
  {
   "cell_type": "code",
   "execution_count": null,
   "metadata": {},
   "outputs": [],
   "source": []
  },
  {
   "cell_type": "markdown",
   "metadata": {},
   "source": [
    "#### ROC"
   ]
  },
  {
   "cell_type": "code",
   "execution_count": 37,
   "metadata": {},
   "outputs": [
    {
     "data": {
      "text/plain": [
       "array([0, 0, 0, ..., 0, 0, 0], dtype=int64)"
      ]
     },
     "execution_count": 37,
     "metadata": {},
     "output_type": "execute_result"
    }
   ],
   "source": [
    "y_prob = gridmodel.best_estimator_.predict_proba(X_validation)[ :1]\n",
    "y_validation"
   ]
  },
  {
   "cell_type": "code",
   "execution_count": 50,
   "metadata": {
    "collapsed": true
   },
   "outputs": [
    {
     "data": {
      "image/png": "[encoded data removed]",
      "text/plain": [
       "<Figure size 864x432 with 1 Axes>"
      ]
     },
     "metadata": {
      "needs_background": "light"
     },
     "output_type": "display_data"
    }
   ],
   "source": [
    "fpr, tpr, threshold = metrics.roc_curve(y_validation, y_prob)\n",
    "roc_auc = metrics.auc(tpr, fpr)\n",
    "\n",
    "fig = plt.figure(figsize=(12, 6))\n",
    "plt.plot(tpr, fpr, 'b', label = 'AUC = {:0.3f}'.format(roc_auc))\n",
    "# plt.plot(tpr, fpr, 'b', label = 'AUC = %0.3f' % roc_auc)\n",
    "plt.title('Receiver Operating Characteristic')\n",
    "plt.legend(loc = 'lower right')\n",
    "plt.plot([0, 1], [0, 1],'r--')\n",
    "plt.xlim([0, 1])\n",
    "plt.ylim([0, 1])\n",
    "plt.ylabel('True Positive Rate')\n",
    "plt.xlabel('False Positive Rate')\n",
    "plt.show()"
   ]
  },
  {
   "cell_type": "code",
   "execution_count": 51,
   "metadata": {},
   "outputs": [
    {
     "data": {
      "text/plain": [
       "array([1, 1, 0, ..., 0, 1, 0], dtype=int64)"
      ]
     },
     "execution_count": 51,
     "metadata": {},
     "output_type": "execute_result"
    }
   ],
   "source": []
  },
  {
   "cell_type": "code",
   "execution_count": 52,
   "metadata": {},
   "outputs": [
    {
     "data": {
      "text/plain": [
       "array([[63510, 21296],\n",
       "       [ 2592,  4856]], dtype=int64)"
      ]
     },
     "execution_count": 52,
     "metadata": {},
     "output_type": "execute_result"
    }
   ],
   "source": [
    "metrics.confusion_matrix(y_validation, gridmodel.best_estimator_.predict(X_validation))"
   ]
  },
  {
   "cell_type": "code",
   "execution_count": 58,
   "metadata": {},
   "outputs": [
    {
     "data": {
      "text/plain": [
       "{'0': {'precision': 0.9607878732867386,\n",
       "  'recall': 0.7488856920500908,\n",
       "  'f1-score': 0.8417048797943119,\n",
       "  'support': 84806},\n",
       " '1': {'precision': 0.18568369531966963,\n",
       "  'recall': 0.6519871106337272,\n",
       "  'f1-score': 0.28904761904761905,\n",
       "  'support': 7448},\n",
       " 'micro avg': {'precision': 0.7410627181477226,\n",
       "  'recall': 0.7410627181477226,\n",
       "  'f1-score': 0.7410627181477226,\n",
       "  'support': 92254},\n",
       " 'macro avg': {'precision': 0.5732357843032041,\n",
       "  'recall': 0.700436401341909,\n",
       "  'f1-score': 0.5653762494209654,\n",
       "  'support': 92254},\n",
       " 'weighted avg': {'precision': 0.8982109019088177,\n",
       "  'recall': 0.7410627181477226,\n",
       "  'f1-score': 0.7970868547976573,\n",
       "  'support': 92254}}"
      ]
     },
     "execution_count": 58,
     "metadata": {},
     "output_type": "execute_result"
    }
   ],
   "source": [
    "metrics.classification_report(y_validation, gridmodel.best_estimator_.predict(X_validation), output_dict=True)"
   ]
  },
  {
   "cell_type": "code",
   "execution_count": 62,
   "metadata": {},
   "outputs": [
    {
     "name": "stdout",
     "output_type": "stream",
     "text": [
      "              precision    recall  f1-score   support\n",
      "\n",
      "           0       0.96      0.75      0.84     84806\n",
      "           1       0.19      0.65      0.29      7448\n",
      "\n",
      "   micro avg       0.74      0.74      0.74     92254\n",
      "   macro avg       0.57      0.70      0.57     92254\n",
      "weighted avg       0.90      0.74      0.80     92254\n",
      "\n"
     ]
    }
   ],
   "source": [
    "print(metrics.classification_report(y_validation, gridmodel.best_estimator_.predict(X_validation), target_names=['0', '1']))"
   ]
  }
 ],
 "metadata": {
  "kernelspec": {
   "display_name": "Python 3",
   "language": "python",
   "name": "python3"
  },
  "language_info": {
   "codemirror_mode": {
    "name": "ipython",
    "version": 3
   },
   "file_extension": ".py",
   "mimetype": "text/x-python",
   "name": "python",
   "nbconvert_exporter": "python",
   "pygments_lexer": "ipython3",
   "version": "3.7.1"
  }
 },
 "nbformat": 4,
 "nbformat_minor": 2
}
